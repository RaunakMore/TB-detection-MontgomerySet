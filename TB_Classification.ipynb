{
 "cells": [
  {
   "cell_type": "markdown",
   "metadata": {
    "id": "TufCUuTlxdFq"
   },
   "source": [
    "### Importing modules\n",
    "\n",
    "---\n",
    "\n"
   ]
  },
  {
   "cell_type": "code",
   "execution_count": 18,
   "metadata": {
    "executionInfo": {
     "elapsed": 5434,
     "status": "ok",
     "timestamp": 1685990238706,
     "user": {
      "displayName": "Siddhi Bajracharya",
      "userId": "10920279035772104205"
     },
     "user_tz": 300
    },
    "id": "BpqNN46GfBSO"
   },
   "outputs": [],
   "source": [
    "import tensorflow\n",
    "import cv2\n",
    "import numpy as np \n",
    "import matplotlib.pyplot as plt\n"
   ]
  },
  {
   "cell_type": "code",
   "execution_count": 19,
   "metadata": {
    "executionInfo": {
     "elapsed": 5,
     "status": "ok",
     "timestamp": 1685990254128,
     "user": {
      "displayName": "Siddhi Bajracharya",
      "userId": "10920279035772104205"
     },
     "user_tz": 300
    },
    "id": "qSU-jeC3fWqt"
   },
   "outputs": [],
   "source": [
    "image_path = 'C:/Users/rauna/JupyterNotebooks/AImedical/MontgomerySet/MontgomerySet/CXR_png/'\n",
    "#image_files = os.listdir(image_directory)"
   ]
  },
  {
   "cell_type": "code",
   "execution_count": 20,
   "metadata": {
    "executionInfo": {
     "elapsed": 154,
     "status": "ok",
     "timestamp": 1685990254279,
     "user": {
      "displayName": "Siddhi Bajracharya",
      "userId": "10920279035772104205"
     },
     "user_tz": 300
    },
    "id": "PnKp3h47fmaC"
   },
   "outputs": [],
   "source": [
    "image = cv2.imread(image_path)"
   ]
  },
  {
   "cell_type": "code",
   "execution_count": 21,
   "metadata": {
    "executionInfo": {
     "elapsed": 4,
     "status": "ok",
     "timestamp": 1685990254280,
     "user": {
      "displayName": "Siddhi Bajracharya",
      "userId": "10920279035772104205"
     },
     "user_tz": 300
    },
    "id": "GkxEi572gGPV"
   },
   "outputs": [],
   "source": [
    "from tensorflow.keras.preprocessing.image import ImageDataGenerator"
   ]
  },
  {
   "cell_type": "code",
   "execution_count": 22,
   "metadata": {
    "executionInfo": {
     "elapsed": 4,
     "status": "ok",
     "timestamp": 1685990254281,
     "user": {
      "displayName": "Siddhi Bajracharya",
      "userId": "10920279035772104205"
     },
     "user_tz": 300
    },
    "id": "nLhj_DKjjdhy"
   },
   "outputs": [],
   "source": [
    "imagedata_generator = ImageDataGenerator(rescale=1/1, validation_split=0.2)"
   ]
  },
  {
   "cell_type": "code",
   "execution_count": 23,
   "metadata": {
    "colab": {
     "base_uri": "https://localhost:8080/"
    },
    "executionInfo": {
     "elapsed": 456,
     "status": "ok",
     "timestamp": 1685990254733,
     "user": {
      "displayName": "Siddhi Bajracharya",
      "userId": "10920279035772104205"
     },
     "user_tz": 300
    },
    "id": "sRquC8uvjvJp",
    "outputId": "231c7221-7463-4d3e-9842-e78734233e26"
   },
   "outputs": [
    {
     "name": "stdout",
     "output_type": "stream",
     "text": [
      "Found 111 images belonging to 2 classes.\n"
     ]
    }
   ],
   "source": [
    "train_data_generator = imagedata_generator.flow_from_directory(\n",
    "  directory = image_path,\n",
    "  shuffle=True,\n",
    "  subset='training',\n",
    "  target_size = (100,100),\n",
    "  batch_size = 32,\n",
    "  class_mode = 'binary',\n",
    "  seed = 1\n",
    ")"
   ]
  },
  {
   "cell_type": "code",
   "execution_count": 24,
   "metadata": {
    "colab": {
     "base_uri": "https://localhost:8080/"
    },
    "executionInfo": {
     "elapsed": 6,
     "status": "ok",
     "timestamp": 1685990254734,
     "user": {
      "displayName": "Siddhi Bajracharya",
      "userId": "10920279035772104205"
     },
     "user_tz": 300
    },
    "id": "Sc6qzCDtn1yU",
    "outputId": "0acd3382-e44d-48d2-ba82-25771598e65d"
   },
   "outputs": [
    {
     "name": "stdout",
     "output_type": "stream",
     "text": [
      "Found 27 images belonging to 2 classes.\n"
     ]
    }
   ],
   "source": [
    "test_data_generator = imagedata_generator.flow_from_directory(\n",
    "  directory = image_path,\n",
    "  shuffle=True,\n",
    "  subset='validation',\n",
    "  target_size = (100,100),\n",
    "  batch_size = 32,\n",
    "  class_mode = 'binary',\n",
    "  seed = 1\n",
    ")"
   ]
  },
  {
   "cell_type": "code",
   "execution_count": 25,
   "metadata": {
    "executionInfo": {
     "elapsed": 5,
     "status": "ok",
     "timestamp": 1685990254735,
     "user": {
      "displayName": "Siddhi Bajracharya",
      "userId": "10920279035772104205"
     },
     "user_tz": 300
    },
    "id": "6Us1UNCfo0YL"
   },
   "outputs": [],
   "source": [
    "from tensorflow.keras.models import Sequential\n",
    "from tensorflow.keras.optimizers import RMSprop\n",
    "from tensorflow.keras.layers import Conv2D, MaxPool2D, Flatten, Dense"
   ]
  },
  {
   "cell_type": "code",
   "execution_count": 26,
   "metadata": {
    "executionInfo": {
     "elapsed": 3545,
     "status": "ok",
     "timestamp": 1685990258276,
     "user": {
      "displayName": "Siddhi Bajracharya",
      "userId": "10920279035772104205"
     },
     "user_tz": 300
    },
    "id": "Xn5Y1IfpqNBQ"
   },
   "outputs": [],
   "source": [
    "model = Sequential(\n",
    "    [\n",
    "        Conv2D(16, (3,3), activation = MaxPool2D(2,2)),\n",
    "        Conv2D(32, (3,3), activation = MaxPool2D(2,2)),\n",
    "        Conv2D(16, (3,3), activation = MaxPool2D(2,2)),\n",
    "        Flatten(),\n",
    "        Dense(512, activation = 'relu'),\n",
    "        Dense(1, activation= 'sigmoid')\n",
    "    ]\n",
    ")"
   ]
  },
  {
   "cell_type": "code",
   "execution_count": 27,
   "metadata": {
    "executionInfo": {
     "elapsed": 3,
     "status": "ok",
     "timestamp": 1685990258276,
     "user": {
      "displayName": "Siddhi Bajracharya",
      "userId": "10920279035772104205"
     },
     "user_tz": 300
    },
    "id": "Q8G2i-Zer0I7"
   },
   "outputs": [],
   "source": [
    "model.compile(\n",
    "    loss = 'binary_crossentropy',\n",
    "    optimizer = RMSprop(learning_rate = 0.001),\n",
    "    metrics = ['accuracy']\n",
    ")"
   ]
  },
  {
   "cell_type": "code",
   "execution_count": 28,
   "metadata": {
    "colab": {
     "base_uri": "https://localhost:8080/"
    },
    "executionInfo": {
     "elapsed": 1944145,
     "status": "ok",
     "timestamp": 1685992202419,
     "user": {
      "displayName": "Siddhi Bajracharya",
      "userId": "10920279035772104205"
     },
     "user_tz": 300
    },
    "id": "Z1xFN1Vcsir_",
    "outputId": "045541c5-b752-436b-8570-af2240740a11"
   },
   "outputs": [
    {
     "name": "stdout",
     "output_type": "stream",
     "text": [
      "Epoch 1/50\n",
      "4/4 [==============================] - 36s 11s/step - loss: 680.9489 - accuracy: 0.4865 - val_loss: 169.5263 - val_accuracy: 0.5926\n",
      "Epoch 2/50\n",
      "4/4 [==============================] - 30s 8s/step - loss: 151.0977 - accuracy: 0.4955 - val_loss: 41.4919 - val_accuracy: 0.5926\n",
      "Epoch 3/50\n",
      "4/4 [==============================] - 28s 7s/step - loss: 30.3664 - accuracy: 0.5135 - val_loss: 10.3342 - val_accuracy: 0.4815\n",
      "Epoch 4/50\n",
      "4/4 [==============================] - 28s 7s/step - loss: 8.6000 - accuracy: 0.5135 - val_loss: 5.5620 - val_accuracy: 0.4815\n",
      "Epoch 5/50\n",
      "4/4 [==============================] - 28s 7s/step - loss: 8.9771 - accuracy: 0.5225 - val_loss: 3.1079 - val_accuracy: 0.5556\n",
      "Epoch 6/50\n",
      "4/4 [==============================] - 28s 7s/step - loss: 1.2704 - accuracy: 0.8288 - val_loss: 3.3400 - val_accuracy: 0.5556\n",
      "Epoch 7/50\n",
      "4/4 [==============================] - 29s 8s/step - loss: 5.9237 - accuracy: 0.6486 - val_loss: 4.1237 - val_accuracy: 0.6667\n",
      "Epoch 8/50\n",
      "4/4 [==============================] - 30s 8s/step - loss: 14.1115 - accuracy: 0.6486 - val_loss: 7.5357 - val_accuracy: 0.5926\n",
      "Epoch 9/50\n",
      "4/4 [==============================] - 29s 9s/step - loss: 27.1362 - accuracy: 0.5225 - val_loss: 56.5247 - val_accuracy: 0.4074\n",
      "Epoch 10/50\n",
      "4/4 [==============================] - 29s 7s/step - loss: 22.2045 - accuracy: 0.5315 - val_loss: 2.9853 - val_accuracy: 0.5926\n",
      "Epoch 11/50\n",
      "4/4 [==============================] - 29s 7s/step - loss: 1.7194 - accuracy: 0.7838 - val_loss: 2.2094 - val_accuracy: 0.6667\n",
      "Epoch 12/50\n",
      "4/4 [==============================] - 29s 8s/step - loss: 0.3673 - accuracy: 0.8829 - val_loss: 2.6803 - val_accuracy: 0.7037\n",
      "Epoch 13/50\n",
      "4/4 [==============================] - 29s 7s/step - loss: 0.2150 - accuracy: 0.9369 - val_loss: 3.2599 - val_accuracy: 0.6296\n",
      "Epoch 14/50\n",
      "4/4 [==============================] - 29s 7s/step - loss: 1.9190 - accuracy: 0.8108 - val_loss: 16.4267 - val_accuracy: 0.4074\n",
      "Epoch 15/50\n",
      "4/4 [==============================] - 29s 9s/step - loss: 39.0962 - accuracy: 0.5495 - val_loss: 26.8600 - val_accuracy: 0.4815\n",
      "Epoch 16/50\n",
      "4/4 [==============================] - 28s 7s/step - loss: 160.1016 - accuracy: 0.5405 - val_loss: 13.4098 - val_accuracy: 0.5926\n",
      "Epoch 17/50\n",
      "4/4 [==============================] - 27s 8s/step - loss: 2.4906 - accuracy: 0.7658 - val_loss: 1.8619 - val_accuracy: 0.7037\n",
      "Epoch 18/50\n",
      "4/4 [==============================] - 28s 7s/step - loss: 0.1285 - accuracy: 0.9550 - val_loss: 1.6160 - val_accuracy: 0.6667\n",
      "Epoch 19/50\n",
      "4/4 [==============================] - 32s 9s/step - loss: 1.3088 - accuracy: 0.8108 - val_loss: 8.6771 - val_accuracy: 0.5926\n",
      "Epoch 20/50\n",
      "4/4 [==============================] - 28s 7s/step - loss: 1.2989 - accuracy: 0.8468 - val_loss: 1.4998 - val_accuracy: 0.7407\n",
      "Epoch 21/50\n",
      "4/4 [==============================] - 29s 9s/step - loss: 0.5461 - accuracy: 0.8288 - val_loss: 2.5856 - val_accuracy: 0.7037\n",
      "Epoch 22/50\n",
      "4/4 [==============================] - 28s 7s/step - loss: 0.0597 - accuracy: 0.9820 - val_loss: 1.3531 - val_accuracy: 0.6667\n",
      "Epoch 23/50\n",
      "4/4 [==============================] - 27s 7s/step - loss: 0.0188 - accuracy: 1.0000 - val_loss: 1.3888 - val_accuracy: 0.6296\n",
      "Epoch 24/50\n",
      "4/4 [==============================] - 28s 7s/step - loss: 0.0072 - accuracy: 1.0000 - val_loss: 1.4593 - val_accuracy: 0.5926\n",
      "Epoch 25/50\n",
      "4/4 [==============================] - 28s 7s/step - loss: 0.0044 - accuracy: 1.0000 - val_loss: 1.5049 - val_accuracy: 0.5926\n",
      "Epoch 26/50\n",
      "4/4 [==============================] - 28s 7s/step - loss: 0.0035 - accuracy: 1.0000 - val_loss: 1.5100 - val_accuracy: 0.6296\n",
      "Epoch 27/50\n",
      "4/4 [==============================] - 28s 7s/step - loss: 0.0027 - accuracy: 1.0000 - val_loss: 1.5440 - val_accuracy: 0.5926\n",
      "Epoch 28/50\n",
      "4/4 [==============================] - 27s 7s/step - loss: 0.0023 - accuracy: 1.0000 - val_loss: 1.5024 - val_accuracy: 0.6296\n",
      "Epoch 29/50\n",
      "4/4 [==============================] - 28s 7s/step - loss: 0.0021 - accuracy: 1.0000 - val_loss: 1.5606 - val_accuracy: 0.5926\n",
      "Epoch 30/50\n",
      "4/4 [==============================] - 28s 7s/step - loss: 0.0018 - accuracy: 1.0000 - val_loss: 1.6064 - val_accuracy: 0.5926\n",
      "Epoch 31/50\n",
      "4/4 [==============================] - 28s 7s/step - loss: 0.0016 - accuracy: 1.0000 - val_loss: 1.5909 - val_accuracy: 0.5926\n",
      "Epoch 32/50\n",
      "4/4 [==============================] - 28s 7s/step - loss: 0.0016 - accuracy: 1.0000 - val_loss: 1.7393 - val_accuracy: 0.5926\n",
      "Epoch 33/50\n",
      "4/4 [==============================] - 28s 7s/step - loss: 0.0012 - accuracy: 1.0000 - val_loss: 1.7021 - val_accuracy: 0.5926\n",
      "Epoch 34/50\n",
      "4/4 [==============================] - 28s 7s/step - loss: 0.0010 - accuracy: 1.0000 - val_loss: 1.6569 - val_accuracy: 0.5926\n",
      "Epoch 35/50\n",
      "4/4 [==============================] - 29s 7s/step - loss: 0.0010 - accuracy: 1.0000 - val_loss: 1.6342 - val_accuracy: 0.6296\n",
      "Epoch 36/50\n",
      "4/4 [==============================] - 27s 7s/step - loss: 0.0016 - accuracy: 1.0000 - val_loss: 1.6862 - val_accuracy: 0.6296\n",
      "Epoch 37/50\n",
      "4/4 [==============================] - 28s 8s/step - loss: 6.7488e-04 - accuracy: 1.0000 - val_loss: 1.7238 - val_accuracy: 0.6296\n",
      "Epoch 38/50\n",
      "4/4 [==============================] - 28s 7s/step - loss: 8.3735e-04 - accuracy: 1.0000 - val_loss: 1.7933 - val_accuracy: 0.6667\n",
      "Epoch 39/50\n",
      "4/4 [==============================] - 28s 8s/step - loss: 181.2918 - accuracy: 0.5225 - val_loss: 5.1694 - val_accuracy: 0.5185\n",
      "Epoch 40/50\n",
      "4/4 [==============================] - 27s 7s/step - loss: 10.9798 - accuracy: 0.5856 - val_loss: 8.7416 - val_accuracy: 0.4074\n",
      "Epoch 41/50\n",
      "4/4 [==============================] - 27s 8s/step - loss: 1.5193 - accuracy: 0.7207 - val_loss: 3.4612 - val_accuracy: 0.4074\n",
      "Epoch 42/50\n",
      "4/4 [==============================] - 27s 7s/step - loss: 1.2438 - accuracy: 0.7207 - val_loss: 1.0743 - val_accuracy: 0.6667\n",
      "Epoch 43/50\n",
      "4/4 [==============================] - 28s 7s/step - loss: 0.1221 - accuracy: 0.9550 - val_loss: 0.8650 - val_accuracy: 0.5556\n",
      "Epoch 44/50\n",
      "4/4 [==============================] - 28s 7s/step - loss: 0.0768 - accuracy: 0.9820 - val_loss: 0.8526 - val_accuracy: 0.5185\n",
      "Epoch 45/50\n",
      "4/4 [==============================] - 31s 9s/step - loss: 0.1635 - accuracy: 0.9459 - val_loss: 0.8049 - val_accuracy: 0.7037\n",
      "Epoch 46/50\n",
      "4/4 [==============================] - 29s 7s/step - loss: 0.0525 - accuracy: 1.0000 - val_loss: 0.9309 - val_accuracy: 0.6667\n",
      "Epoch 47/50\n",
      "4/4 [==============================] - 28s 7s/step - loss: 0.0533 - accuracy: 0.9910 - val_loss: 1.3506 - val_accuracy: 0.6667\n",
      "Epoch 48/50\n",
      "4/4 [==============================] - 31s 8s/step - loss: 0.0468 - accuracy: 0.9820 - val_loss: 0.8211 - val_accuracy: 0.6296\n",
      "Epoch 49/50\n",
      "4/4 [==============================] - 28s 7s/step - loss: 0.8566 - accuracy: 0.8919 - val_loss: 29.0707 - val_accuracy: 0.4074\n",
      "Epoch 50/50\n",
      "4/4 [==============================] - 29s 7s/step - loss: 25.6212 - accuracy: 0.6126 - val_loss: 2.4059 - val_accuracy: 0.6296\n"
     ]
    },
    {
     "data": {
      "text/plain": [
       "<keras.callbacks.History at 0x1f510fcb970>"
      ]
     },
     "execution_count": 28,
     "metadata": {},
     "output_type": "execute_result"
    }
   ],
   "source": [
    "model.fit(\n",
    "    train_data_generator,\n",
    "    batch_size = 32, \n",
    "    epochs = 50,\n",
    "    validation_data= test_data_generator\n",
    ")"
   ]
  },
  {
   "cell_type": "code",
   "execution_count": 29,
   "metadata": {
    "executionInfo": {
     "elapsed": 4,
     "status": "ok",
     "timestamp": 1685992202420,
     "user": {
      "displayName": "Siddhi Bajracharya",
      "userId": "10920279035772104205"
     },
     "user_tz": 300
    },
    "id": "W6wIOerwtv4m"
   },
   "outputs": [],
   "source": [
    "import numpy as np"
   ]
  },
  {
   "cell_type": "code",
   "execution_count": 30,
   "metadata": {
    "colab": {
     "base_uri": "https://localhost:8080/"
    },
    "executionInfo": {
     "elapsed": 8191,
     "status": "ok",
     "timestamp": 1685992210608,
     "user": {
      "displayName": "Siddhi Bajracharya",
      "userId": "10920279035772104205"
     },
     "user_tz": 300
    },
    "id": "Rmq2RvSZv1Hj",
    "outputId": "430a0bd3-0638-4b3b-802a-feebc1246897"
   },
   "outputs": [
    {
     "name": "stdout",
     "output_type": "stream",
     "text": [
      "1/1 [==============================] - 0s 484ms/step\n"
     ]
    }
   ],
   "source": [
    "predictions = np.array([])\n",
    "actual = np.array([])\n",
    "\n",
    "for i in range(1):\n",
    "  imgs, labels = list(test_data_generator[i])\n",
    "\n",
    "  predictions = np.concatenate(\n",
    "      [\n",
    "          predictions,\n",
    "       (np.concatenate(model.predict(imgs)) >=0.5).astype('int32'),\n",
    "      ]\n",
    "  )\n",
    "  actual = np.concatenate([actual,labels])\n"
   ]
  },
  {
   "cell_type": "code",
   "execution_count": 31,
   "metadata": {
    "executionInfo": {
     "elapsed": 770,
     "status": "ok",
     "timestamp": 1685992211376,
     "user": {
      "displayName": "Siddhi Bajracharya",
      "userId": "10920279035772104205"
     },
     "user_tz": 300
    },
    "id": "PNE8KmJ0wP5N"
   },
   "outputs": [],
   "source": [
    "from sklearn.metrics import confusion_matrix, ConfusionMatrixDisplay"
   ]
  },
  {
   "cell_type": "code",
   "execution_count": 32,
   "metadata": {
    "executionInfo": {
     "elapsed": 6,
     "status": "ok",
     "timestamp": 1685992211376,
     "user": {
      "displayName": "Siddhi Bajracharya",
      "userId": "10920279035772104205"
     },
     "user_tz": 300
    },
    "id": "N0K5X82Hw1XV"
   },
   "outputs": [],
   "source": [
    "dis = ConfusionMatrixDisplay( confusion_matrix(actual, predictions))"
   ]
  },
  {
   "cell_type": "code",
   "execution_count": 33,
   "metadata": {
    "colab": {
     "base_uri": "https://localhost:8080/",
     "height": 473
    },
    "executionInfo": {
     "elapsed": 294,
     "status": "ok",
     "timestamp": 1685992211665,
     "user": {
      "displayName": "Siddhi Bajracharya",
      "userId": "10920279035772104205"
     },
     "user_tz": 300
    },
    "id": "K039qUYFw3sC",
    "outputId": "08c1dc1c-ec06-4c10-c74c-4bb06f2b5926"
   },
   "outputs": [
    {
     "data": {
      "text/plain": [
       "<sklearn.metrics._plot.confusion_matrix.ConfusionMatrixDisplay at 0x1f511330fd0>"
      ]
     },
     "execution_count": 33,
     "metadata": {},
     "output_type": "execute_result"
    },
    {
     "data": {
      "image/png": "[encoded data removed]",
      "text/plain": [
       "<Figure size 640x480 with 2 Axes>"
      ]
     },
     "metadata": {},
     "output_type": "display_data"
    }
   ],
   "source": [
    "dis.plot()"
   ]
  },
  {
   "cell_type": "code",
   "execution_count": null,
   "metadata": {
    "executionInfo": {
     "elapsed": 5,
     "status": "ok",
     "timestamp": 1685992211666,
     "user": {
      "displayName": "Siddhi Bajracharya",
      "userId": "10920279035772104205"
     },
     "user_tz": 300
    },
    "id": "76ZhO095xGx9"
   },
   "outputs": [],
   "source": []
  }
 ],
 "metadata": {
  "accelerator": "GPU",
  "colab": {
   "gpuType": "T4",
   "provenance": [
    {
     "file_id": "1gEqoyJmzTezdrXgGwzzAAPLS7PVE1LAn",
     "timestamp": 1685989703871
    }
   ]
  },
  "kernelspec": {
   "display_name": "Python 3 (ipykernel)",
   "language": "python",
   "name": "python3"
  },
  "language_info": {
   "codemirror_mode": {
    "name": "ipython",
    "version": 3
   },
   "file_extension": ".py",
   "mimetype": "text/x-python",
   "name": "python",
   "nbconvert_exporter": "python",
   "pygments_lexer": "ipython3",
   "version": "3.9.18"
  }
 },
 "nbformat": 4,
 "nbformat_minor": 4
}
